{
  "nbformat": 4,
  "nbformat_minor": 0,
  "metadata": {
    "colab": {
      "provenance": []
    },
    "kernelspec": {
      "name": "python3",
      "display_name": "Python 3"
    },
    "language_info": {
      "name": "python"
    }
  },
  "cells": [
    {
      "cell_type": "markdown",
      "source": [
        "# Temas Tratados en el Trabajo Práctico 8\n",
        "\n",
        "* Aprendizaje estadístico.\n",
        "\n",
        "* Evolución de la verosimilitud de una hipótesis en función de observaciones.\n",
        "\n",
        "* Aprendizaje no supervisado. Algoritmo K-means.\n",
        "\n",
        "* Aprendizaje supervisado. Algoritmo Knn.\n",
        "\n",
        "* Aprendizaje por refuerzo. Algoritmo Q-Learning.\n",
        "\n",
        "## Ejercicios Teóricos\n",
        "\n",
        "1. Un fabricante de tornillos vende cajas que contienen 1000 tornillos de cabeza redonda con tres tipos de recubrimiento electrolítico (cincado, cobre y níquel). Cada caja se rellena\n",
        "con diferentes proporciones que pueden variar de la siguiente manera:\n",
        "\n",
        "&emsp;&emsp;a: Todos los tornillos están recubiertos de níquel. 15 de cada 100 cajas se llenan de esta manera.\n",
        "\n",
        "&emsp;&emsp;b: El 70% de los tornillos están recubiertos de níquel, el 20% de cobre, el resto está cincado. 15 de cada 100 cajas se llenan de esta manera.\n",
        "\n",
        "&emsp;&emsp;c: El 50% de los tornillos están recubiertos de níquel, el 25% de cobre y el resto está cincado. 50 de cada 100 cajas se llenan de esta manera.\n",
        "\n",
        "&emsp;&emsp;d: El 20 % de los tornillos están recubiertos de níquel, el 50% de cobre y el resto está cincado. 10 de cada 100 cajas se llenan de esta manera.\n",
        "\n",
        "&emsp;&emsp;e: Todos los tornillos están recubiertos de cobre. 10 de cada 100 cajas se llenan de esta manera.\n",
        "\n",
        "&emsp;&emsp;1.1 ¿Cuál es la distribución a priori sobre las hipótesis?\n",
        "\n",
        "&emsp;Considerando que los 10 primeros tornillos que se extraen de una caja de muestra son de cobre:\n",
        "\n",
        "&emsp;&emsp;1.2 Calcule la probabilidad de cada hipótesis dado que los 10 primeros tornillos fueron de cobre.\n",
        "\n",
        "&emsp;&emsp;1.3 Grafique la evolución de la verosimilitud de cada hipótesis en función del número de tornillos extraídos de la caja.\n",
        "\n",
        "&emsp;&emsp;1.4 Para cada hipótesis, ¿cuál es la probabilidad de que el cuarto tornillo extraído sea de cobre?\n",
        "\n",
        "2. ¿Qué diferencia principal existe entre un algoritmo supervisado y un algoritmo no supervisado?\n",
        "\n",
        "## Ejercicios de implementación\n",
        "\n",
        "3. Genere un conjunto de 23 puntos que contengan coordenadas *xy* aleatorias con valores contenidos en el intervalo [0, 5] y grafique los puntos obtenidos en un gráfico.\n",
        "\n",
        "&emsp;&emsp;3.1 Implemente un algoritmo K-means que clasifique 20 de los puntos en 2 grupos y grafique el resultado asignando un color a cada uno.\n",
        "\n",
        "&emsp;&emsp;3.2 Tome los tres puntos restantes y clasifíquelos en los grupos obtenidos anteriormente usando el algoritmo Knn. Utilice distintos valores de K y anote lo que observa con esta elección.\n",
        "\n",
        "4. La imagen mostrada abajo muestra una red de salas y cómo se comunican entre ellas. Implemente un algoritmo Q-Learning con un factor despreciativo $γ = 0.9$. La matriz de recompensas debe asignar un valor de 0 a cada camino accesible y un valor de 100 a caminos que lleven a la sala del tesoro.\n",
        "\n",
        "![Laberinto](https://drive.google.com/uc?export=view&id=1dkDruEIPa7f-BAmjI47TZl3bxaqYf6a9)\n",
        "\n",
        "&emsp;&emsp;4.1 Dibuje un diagrama con la asignación de recompensas correspondiente a cada estado.\n",
        "\n",
        "&emsp;&emsp;4.2 Diseñe y muestre la matriz de recompensas.\n",
        "\n",
        "&emsp;&emsp;4.3 Obtenga la matriz Q óptima, normalícela respecto al valor máximo encontrado y grafique la política obtenida en el diagrama mostrado inicialmente.\n",
        "\n",
        "# Bibliografía\n",
        "\n",
        "[Russell, S. & Norvig, P. (2004) _Inteligencia Artificial: Un Enfoque Moderno_. Pearson Educación S.A. (2a Ed.) Madrid, España](https://www.academia.edu/8241613/Inteligencia_Aritificial_Un_Enfoque_Moderno_2da_Edici%C3%B3n_Stuart_J_Russell_y_Peter_Norvig)\n",
        "\n",
        "[Poole, D. & Mackworth, A. (2017) _Artificial Intelligence: Foundations of Computational Agents_. Cambridge University Press (3a Ed.) Vancouver, Canada](https://artint.info/3e/html/ArtInt3e.html)"
      ],
      "metadata": {
        "id": "omgqAAvuUBnF"
      }
    }
  ]
}